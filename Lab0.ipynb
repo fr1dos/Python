{
 "cells": [
  {
   "cell_type": "code",
   "execution_count": null,
   "id": "4ea7d2a6",
   "metadata": {},
   "outputs": [],
   "source": [
    "# Чеська Республіка\n",
    "\n",
    "**Площа:** 78,866 км²  \n",
    "**Населення:** 10.7 мільйонів (2023 р.)  \n",
    "**Державний устрій:** Парламентська республіка\n",
    "\n",
    "---\n",
    "\n",
    "## Видатні особистості:\n",
    "- **Ян Гус** — реформатор\n",
    "- **Вацлав Гавел** — перший президент Чехії\n",
    "- **Антонін Дворжак** — композитор\n",
    "\n",
    "---\n",
    "\n",
    "## Пам'ятки культури та природи\n",
    "### Основні культурні об'єкти:\n",
    "1. **Карлів міст**\n",
    "2. **Празький Град**\n",
    "   - *Один із найбільших замкових комплексів світу*\n",
    "   - Сюди входять: Собор святого Віта, Старий Королівський палац\n",
    "\n",
    "---\n",
    "\n",
    "## Цікаві факти:\n",
    "- **Столиця**: Прага\n",
    "- **Офіційна мова**: Чеська\n",
    "- **Валюта**: Чеська крона\n",
    "    \n",
    "---\n",
    "\n",
    "## Прапор Чехії намальований за допомогою тегу `<svg>`\n",
    "\n",
    "<svg width=\"200\" height=\"100\" xmlns=\"http://www.w3.org/2000/svg\">\n",
    "  <!-- Білий трикутник -->\n",
    "  <polygon points=\"0,0 0,100 85,50\" fill=\"blue\" />\n",
    "  <!-- Верхня біла смуга -->\n",
    "  <rect x=\"85\" width=\"115\" height=\"50\" fill=\"white\" />\n",
    "  <!-- Нижня червона смуга -->\n",
    "  <rect x=\"85\" y=\"50\" width=\"115\" height=\"50\" fill=\"red\" />\n",
    "</svg>\n",
    "\n",
    "![Прапор Чехії](https://upload.wikimedia.org/wikipedia/commons/thumb/c/cb/Flag_of_the_Czech_Republic.svg/1000px-Flag_of_the_Czech_Republic.svg.png)\n",
    "\n",
    "---\n",
    "\n",
    "## Статистика населення\n",
    "\n",
    "| Місто       | Населення (млн) | Площа (км²) |\n",
    "|-------------|-----------------|-------------|\n",
    "| Прага       | 1.3             | 496         |\n",
    "| Брно        | 0.4             | 230         |\n",
    "| Острава     | 0.3             | 214         |\n",
    "\n",
    "---\n",
    "\n",
    "## Важливі факти:\n",
    "\n",
    "- **Курсивний текст** для виділення важливих деталей\n",
    "- **__Напівжирний текст__**, щоб виділити ключові моменти\n",
    "- **<span style=\"color:blue\">Текст синього кольору</span>**, щоб привернути увагу до інформації\n",
    "- **<span style=\"color:green; border:2px solid black; padding:5px;\">Текст у рамці зеленого кольору</span>** для особливої інформації\n",
    "\n",
    "---\n",
    "\n",
    "![Зображення Празького Граду](https://www.prague.fm/wp-content/uploads/Depositphotos_70367843_original.jpg)\n",
    "\n",
    "[Докладніше про Чехію](https://uk.wikipedia.org/wiki/%D0%A7%D0%B5%D1%85%D1%96%D1%8F)\n"
   ]
  },
  {
   "cell_type": "code",
   "execution_count": 2,
   "id": "3b059c22",
   "metadata": {},
   "outputs": [
    {
     "name": "stdout",
     "output_type": "stream",
     "text": [
      "9\n"
     ]
    }
   ],
   "source": [
    "N = ord(\"D\") % 10 + 1\n",
    "print(N)\n"
   ]
  },
  {
   "cell_type": "code",
   "execution_count": 3,
   "id": "3a5f3648",
   "metadata": {},
   "outputs": [
    {
     "name": "stdout",
     "output_type": "stream",
     "text": [
      "[35, 18, 15, 12]\n",
      "[34, 22, 15, 6, 4]\n",
      "[]\n"
     ]
    }
   ],
   "source": [
    "def task_9(numbers):\n",
    "    # Перевірка, чи всі елементи списку є цілими числами\n",
    "    if not all(isinstance(n, int) for n in numbers):\n",
    "        return \"Помилка: всі елементи повинні бути цілими числами!\"\n",
    "    \n",
    "    # Визначаємо, чи є число простим\n",
    "    def is_prime(n):\n",
    "        if n < 2:\n",
    "            return False\n",
    "        for i in range(2, int(n**0.5) + 1):\n",
    "            if n % i == 0:\n",
    "                return False\n",
    "        return True\n",
    "    \n",
    "    # Залишаємо тільки непрості числа\n",
    "    non_prime_numbers = [n for n in numbers if not is_prime(n)]\n",
    "    \n",
    "    # Сортуємо їх за зменшенням\n",
    "    return sorted(non_prime_numbers, reverse=True)\n",
    "\n",
    "# Приклади тестування\n",
    "print(task_9([3, 12, 15, 7, 11, 35, 18]))  # Має вивести: [35, 18, 15, 12]\n",
    "print(task_9([34, 2, 15, 22, 4, 23, 6]))  # Має вивести: [34, 22, 15, 6, 4]\n",
    "print(task_9([2, 3, 5, 7, 11, 13, 17]))  # Має вивести: []\n"
   ]
  }
 ],
 "metadata": {
  "kernelspec": {
   "display_name": "Python 3 (ipykernel)",
   "language": "python",
   "name": "python3"
  },
  "language_info": {
   "codemirror_mode": {
    "name": "ipython",
    "version": 3
   },
   "file_extension": ".py",
   "mimetype": "text/x-python",
   "name": "python",
   "nbconvert_exporter": "python",
   "pygments_lexer": "ipython3",
   "version": "3.7.1"
  }
 },
 "nbformat": 4,
 "nbformat_minor": 5
}
